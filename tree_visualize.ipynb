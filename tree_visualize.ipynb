{
 "cells": [
  {
   "cell_type": "code",
   "id": "initial_id",
   "metadata": {
    "collapsed": true,
    "ExecuteTime": {
     "end_time": "2024-06-14T20:11:05.161269Z",
     "start_time": "2024-06-14T20:10:54.034274Z"
    }
   },
   "source": [
    "from openai_setup import setup_openai_key\n",
    "from raptor import RetrievalAugmentation\n",
    "from visualizing_tree import tree_to_graph\n",
    "\n",
    "setup_openai_key()\n",
    "SAVE_PATH = \"demo/cinderella\"\n",
    "RA = RetrievalAugmentation(tree=SAVE_PATH)"
   ],
   "outputs": [
    {
     "name": "stderr",
     "output_type": "stream",
     "text": [
      "2024-06-14 17:11:03,291 - Loading faiss with AVX2 support.\n",
      "2024-06-14 17:11:03,401 - Successfully loaded faiss with AVX2 support.\n",
      "2024-06-14 17:11:05,157 - Successfully initialized TreeBuilder with Config \n",
      "        TreeBuilderConfig:\n",
      "            Tokenizer: <Encoding 'cl100k_base'>\n",
      "            Max Tokens: 100\n",
      "            Num Layers: 5\n",
      "            Threshold: 0.5\n",
      "            Top K: 5\n",
      "            Selection Mode: top_k\n",
      "            Summarization Length: 100\n",
      "            Summarization Model: <raptor.SummarizationModels.GPT3TurboSummarizationModel object at 0x000001F7CDC14560>\n",
      "            Embedding Models: {'OpenAI': <raptor.EmbeddingModels.OpenAIEmbeddingModel object at 0x000001F7CDB56390>}\n",
      "            Cluster Embedding Model: OpenAI\n",
      "        \n",
      "        Reduction Dimension: 10\n",
      "        Clustering Algorithm: RAPTOR_Clustering\n",
      "        Clustering Parameters: {}\n",
      "        \n",
      "2024-06-14 17:11:05,158 - Successfully initialized ClusterTreeBuilder with Config \n",
      "        TreeBuilderConfig:\n",
      "            Tokenizer: <Encoding 'cl100k_base'>\n",
      "            Max Tokens: 100\n",
      "            Num Layers: 5\n",
      "            Threshold: 0.5\n",
      "            Top K: 5\n",
      "            Selection Mode: top_k\n",
      "            Summarization Length: 100\n",
      "            Summarization Model: <raptor.SummarizationModels.GPT3TurboSummarizationModel object at 0x000001F7CDC14560>\n",
      "            Embedding Models: {'OpenAI': <raptor.EmbeddingModels.OpenAIEmbeddingModel object at 0x000001F7CDB56390>}\n",
      "            Cluster Embedding Model: OpenAI\n",
      "        \n",
      "        Reduction Dimension: 10\n",
      "        Clustering Algorithm: RAPTOR_Clustering\n",
      "        Clustering Parameters: {}\n",
      "        \n",
      "2024-06-14 17:11:05,158 - Successfully initialized TreeRetriever with Config \n",
      "        TreeRetrieverConfig:\n",
      "            Tokenizer: <Encoding 'cl100k_base'>\n",
      "            Threshold: 0.5\n",
      "            Top K: 5\n",
      "            Selection Mode: top_k\n",
      "            Context Embedding Model: OpenAI\n",
      "            Embedding Model: <raptor.EmbeddingModels.OpenAIEmbeddingModel object at 0x000001F7CCFA3320>\n",
      "            Num Layers: None\n",
      "            Start Layer: None\n",
      "        \n",
      "2024-06-14 17:11:05,159 - Successfully initialized RetrievalAugmentation with Config \n",
      "        RetrievalAugmentationConfig:\n",
      "            \n",
      "        TreeBuilderConfig:\n",
      "            Tokenizer: <Encoding 'cl100k_base'>\n",
      "            Max Tokens: 100\n",
      "            Num Layers: 5\n",
      "            Threshold: 0.5\n",
      "            Top K: 5\n",
      "            Selection Mode: top_k\n",
      "            Summarization Length: 100\n",
      "            Summarization Model: <raptor.SummarizationModels.GPT3TurboSummarizationModel object at 0x000001F7CDC14560>\n",
      "            Embedding Models: {'OpenAI': <raptor.EmbeddingModels.OpenAIEmbeddingModel object at 0x000001F7CDB56390>}\n",
      "            Cluster Embedding Model: OpenAI\n",
      "        \n",
      "        Reduction Dimension: 10\n",
      "        Clustering Algorithm: RAPTOR_Clustering\n",
      "        Clustering Parameters: {}\n",
      "        \n",
      "            \n",
      "            \n",
      "        TreeRetrieverConfig:\n",
      "            Tokenizer: <Encoding 'cl100k_base'>\n",
      "            Threshold: 0.5\n",
      "            Top K: 5\n",
      "            Selection Mode: top_k\n",
      "            Context Embedding Model: OpenAI\n",
      "            Embedding Model: <raptor.EmbeddingModels.OpenAIEmbeddingModel object at 0x000001F7CCFA3320>\n",
      "            Num Layers: None\n",
      "            Start Layer: None\n",
      "        \n",
      "            \n",
      "            QA Model: <raptor.QAModels.GPT3TurboQAModel object at 0x000001F7CDEB0F80>\n",
      "            Tree Builder Type: cluster\n",
      "        \n"
     ]
    }
   ],
   "execution_count": 1
  },
  {
   "metadata": {
    "ExecuteTime": {
     "end_time": "2024-06-14T20:11:06.985250Z",
     "start_time": "2024-06-14T20:11:06.977295Z"
    }
   },
   "cell_type": "code",
   "source": [
    "graph = tree_to_graph(RA.tree)\n",
    "graph"
   ],
   "id": "29a639560140fe4f",
   "outputs": [
    {
     "name": "stdout",
     "output_type": "stream",
     "text": [
      "Added node 6:  Thrice a day cinderella went and sat be...\n",
      "Node 6 has no children\n",
      "Added node 7:   When the two step-sisters heard that t...\n",
      "Node 7 has no children\n",
      "Added node 3: and emptied her peas and lentils into th...\n",
      "Node 3 has no children\n",
      "Added node 0: The wife of a rich man fell sick, and as...\n",
      "Node 0 has no children\n",
      "Added node 1: the snow spread a white sheet over the g...\n",
      "Node 1 has no children\n",
      "Added node 4: asked his two step-daughters what he sho...\n",
      "Node 4 has no children\n",
      "Added node 11: But the step-mother said, no, cinderella...\n",
      "Node 11 has no children\n",
      "Added node 10: And the pigeons nodded with their heads ...\n",
      "Node 10 has no children\n",
      "Added node 14:   But the step-mother said, all this wil...\n",
      "Node 14 has no children\n",
      "Added node 12: dishes of lentils amongst the ashes, the...\n",
      "Node 12 has no children\n",
      "Added node 15: Then the bird threw a gold and silver dr...\n",
      "Node 15 has no children\n",
      "Added node 9: back-door into the garden, and called, y...\n",
      "Node 9 has no children\n",
      "Added node 2:   They took her pretty clothes away from...\n",
      "Node 2 has no children\n",
      "Added node 8:   You go, cinderella, said she, covered ...\n",
      "Node 8 has no children\n",
      "Added node 5: knocked off his hat   Then he broke off ...\n",
      "Node 5 has no children\n",
      "Added node 13: sky, came whirring and crowding in, and ...\n",
      "Node 13 has no children\n",
      "Added node 17: pigeon-house   The king's son waited unt...\n",
      "Node 17 has no children\n",
      "Added node 16: prince approached her, took her by the h...\n",
      "Node 16 has no children\n",
      "Added node 18: a dim little oil-lamp was burning on the...\n",
      "Node 18 has no children\n",
      "Added node 19: the step-sisters had gone once more, cin...\n",
      "Node 19 has no children\n",
      "Added node 23: And now the bird threw down to her a dre...\n",
      "Node 23 has no children\n",
      "Added node 20: and danced with no one but her   When ot...\n",
      "Node 20 has no children\n",
      "Added node 21: between the branches like a squirrel tha...\n",
      "Node 21 has no children\n",
      "Added node 24: son was anxious to go with her, but she ...\n",
      "Node 24 has no children\n",
      "Added node 22: kitchen, cinderella lay there among the ...\n",
      "Node 22 has no children\n",
      "Added node 27:      there's blood within the shoe,     ...\n",
      "Node 27 has no children\n",
      "Added node 25: the father, and said to him, no one shal...\n",
      "Node 25 has no children\n",
      "Added node 26: when you are queen you will have no more...\n",
      "Node 26 has no children\n",
      "Added node 32: however, took cinderella on his horse an...\n",
      "Node 32 has no children\n",
      "Added node 30:   No, said the man, there is still a lit...\n",
      "Node 30 has no children\n",
      "Added node 28:   So her mother gave her a knife and sai...\n",
      "Node 28 has no children\n",
      "Added node 34: the left, and the younger at the right, ...\n",
      "Node 34 has no children\n",
      "Added node 33: the other on the left, and remained sitt...\n",
      "Node 33 has no children\n",
      "Added node 31: before the king's son, who gave her the ...\n",
      "Node 31 has no children\n",
      "Added node 29:      turn and peep, turn and peep,      ...\n",
      "Node 29 has no children\n",
      "Added node 35: The story begins with a man asking his t...\n",
      "Node 35 has children: {4, 5, 6, 7, 15, 18, 19, 22}\n",
      "Added edge from 35 to 4\n",
      "Added edge from 35 to 5\n",
      "Added edge from 35 to 6\n",
      "Added edge from 35 to 7\n",
      "Added edge from 35 to 15\n",
      "Added edge from 35 to 18\n",
      "Added edge from 35 to 19\n",
      "Added edge from 35 to 22\n",
      "Added node 36: In this story, a father insists that onl...\n",
      "Node 36 has children: {32, 25, 26, 28}\n",
      "Added edge from 36 to 32\n",
      "Added edge from 36 to 25\n",
      "Added edge from 36 to 26\n",
      "Added edge from 36 to 28\n",
      "Added node 37: In this story, a maiden is tasked with s...\n",
      "Node 37 has children: {34, 9, 10, 12, 13}\n",
      "Added edge from 37 to 34\n",
      "Added edge from 37 to 9\n",
      "Added edge from 37 to 10\n",
      "Added edge from 37 to 12\n",
      "Added edge from 37 to 13\n",
      "Added node 38: The story follows a princess who is stri...\n",
      "Node 38 has children: {2, 16, 20, 23, 24, 31}\n",
      "Added edge from 38 to 2\n",
      "Added edge from 38 to 16\n",
      "Added edge from 38 to 20\n",
      "Added edge from 38 to 23\n",
      "Added edge from 38 to 24\n",
      "Added edge from 38 to 31\n",
      "Added node 39: Cinderella is a young girl who is mistre...\n",
      "Node 39 has children: {33, 3, 8, 11, 14, 17, 21, 30}\n",
      "Added edge from 39 to 33\n",
      "Added edge from 39 to 3\n",
      "Added edge from 39 to 8\n",
      "Added edge from 39 to 11\n",
      "Added edge from 39 to 14\n",
      "Added edge from 39 to 17\n",
      "Added edge from 39 to 21\n",
      "Added edge from 39 to 30\n",
      "Added node 40: The story begins with the wife of a rich...\n",
      "Node 40 has children: {0, 1}\n",
      "Added edge from 40 to 0\n",
      "Added edge from 40 to 1\n",
      "Added node 41: In this story, a man is on a quest to fi...\n",
      "Node 41 has children: {27, 29}\n",
      "Added edge from 41 to 27\n",
      "Added edge from 41 to 29\n"
     ]
    },
    {
     "data": {
      "text/plain": [
       "<networkx.classes.digraph.DiGraph at 0x1f7ccfcbb30>"
      ]
     },
     "execution_count": 2,
     "metadata": {},
     "output_type": "execute_result"
    }
   ],
   "execution_count": 2
  },
  {
   "metadata": {
    "ExecuteTime": {
     "end_time": "2024-06-14T20:13:10.694527Z",
     "start_time": "2024-06-14T20:13:10.676731Z"
    }
   },
   "cell_type": "code",
   "source": [
    "from pyvis.network import Network\n",
    "\n",
    "net = Network(notebook=True, width=\"100%\", height=\"900px\", bgcolor=\"#222222\", font_color=\"white\")\n",
    "net.from_nx(graph)\n",
    "net.show(\"demo/cinderella_tree.html\")"
   ],
   "id": "c9300ed0e8bf1c2d",
   "outputs": [
    {
     "name": "stdout",
     "output_type": "stream",
     "text": [
      "Warning: When  cdn_resources is 'local' jupyter notebook has issues displaying graphics on chrome/safari. Use cdn_resources='in_line' or cdn_resources='remote' if you have issues viewing graphics in a notebook.\n",
      "demo/cinderella_tree.html\n"
     ]
    },
    {
     "data": {
      "text/plain": [
       "<IPython.lib.display.IFrame at 0x1f7cb8e62a0>"
      ],
      "text/html": [
       "\n",
       "        <iframe\n",
       "            width=\"100%\"\n",
       "            height=\"900px\"\n",
       "            src=\"demo/cinderella_tree.html\"\n",
       "            frameborder=\"0\"\n",
       "            allowfullscreen\n",
       "            \n",
       "        ></iframe>\n",
       "        "
      ]
     },
     "execution_count": 6,
     "metadata": {},
     "output_type": "execute_result"
    }
   ],
   "execution_count": 6
  },
  {
   "metadata": {},
   "cell_type": "code",
   "outputs": [],
   "execution_count": null,
   "source": "",
   "id": "c9d6a3548459f098"
  }
 ],
 "metadata": {
  "kernelspec": {
   "display_name": "Python 3",
   "language": "python",
   "name": "python3"
  },
  "language_info": {
   "codemirror_mode": {
    "name": "ipython",
    "version": 2
   },
   "file_extension": ".py",
   "mimetype": "text/x-python",
   "name": "python",
   "nbconvert_exporter": "python",
   "pygments_lexer": "ipython2",
   "version": "2.7.6"
  }
 },
 "nbformat": 4,
 "nbformat_minor": 5
}
